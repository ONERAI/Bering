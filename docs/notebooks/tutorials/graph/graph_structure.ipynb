{
 "cells": [
  {
   "cell_type": "code",
   "execution_count": 1,
   "metadata": {
    "execution": {
     "iopub.execute_input": "2023-07-02T15:35:13.764591Z",
     "iopub.status.busy": "2023-07-02T15:35:13.764009Z",
     "iopub.status.idle": "2023-07-02T15:35:15.587395Z",
     "shell.execute_reply": "2023-07-02T15:35:15.585843Z"
    }
   },
   "outputs": [],
   "source": [
    "%matplotlib inline"
   ]
  },
  {
   "attachments": {},
   "cell_type": "markdown",
   "metadata": {},
   "source": [
    "# Understand Neighbor Gene Component and Co-localization Graphs\n",
    "This tutorial shows the disentanglement of neighbor gene components (NGC) and colocalization graphs, which are used as the input for training. \n",
    "We will use Nanostring CosMx NSCLC (He et al., 2022) data as an example."
   ]
  },
  {
   "attachments": {},
   "cell_type": "markdown",
   "metadata": {},
   "source": [
    "### Import packages & data"
   ]
  },
  {
   "cell_type": "code",
   "execution_count": 2,
   "metadata": {
    "execution": {
     "iopub.execute_input": "2023-07-02T15:35:15.593494Z",
     "iopub.status.busy": "2023-07-02T15:35:15.592711Z",
     "iopub.status.idle": "2023-07-02T15:35:32.093477Z",
     "shell.execute_reply": "2023-07-02T15:35:32.091571Z"
    }
   },
   "outputs": [],
   "source": [
    "import sys \n",
    "import numpy as np\n",
    "import pandas as pd\n",
    "import tifffile as tiff\n",
    "import matplotlib.pyplot as plt \n",
    "\n",
    "import Bering as br"
   ]
  },
  {
   "cell_type": "code",
   "execution_count": 3,
   "metadata": {
    "execution": {
     "iopub.execute_input": "2023-07-02T15:35:32.099212Z",
     "iopub.status.busy": "2023-07-02T15:35:32.098695Z",
     "iopub.status.idle": "2023-07-02T15:35:33.155475Z",
     "shell.execute_reply": "2023-07-02T15:35:33.154551Z"
    }
   },
   "outputs": [],
   "source": [
    "# load data\n",
    "df_spots_seg = pd.read_csv('spots_seg.txt', sep='\\t', header=0, index_col=0)\n",
    "df_spots_unseg = pd.read_csv('spots_unseg.txt', sep='\\t', header=0, index_col=0)\n",
    "img = tiff.imread('image.tif')\n",
    "channels = ['Nuclei', 'PanCK', 'Membrane']"
   ]
  },
  {
   "attachments": {},
   "cell_type": "markdown",
   "metadata": {},
   "source": [
    "### Create Bering object"
   ]
  },
  {
   "cell_type": "code",
   "execution_count": 4,
   "metadata": {
    "execution": {
     "iopub.execute_input": "2023-07-02T15:35:33.159986Z",
     "iopub.status.busy": "2023-07-02T15:35:33.159736Z",
     "iopub.status.idle": "2023-07-02T15:35:40.004087Z",
     "shell.execute_reply": "2023-07-02T15:35:40.002699Z"
    }
   },
   "outputs": [
    {
     "data": {
      "text/plain": [
       "<Bering.objects.bering.Bering_Graph at 0x2af8439f4580>"
      ]
     },
     "execution_count": 4,
     "metadata": {},
     "output_type": "execute_result"
    }
   ],
   "source": [
    "bg = br.BrGraph(df_spots_seg, df_spots_unseg, img, channels)\n",
    "bg"
   ]
  },
  {
   "attachments": {},
   "cell_type": "markdown",
   "metadata": {},
   "source": [
    "### Construct graphs"
   ]
  },
  {
   "cell_type": "code",
   "execution_count": 5,
   "metadata": {
    "execution": {
     "iopub.execute_input": "2023-07-02T15:35:40.080126Z",
     "iopub.status.busy": "2023-07-02T15:35:40.079497Z",
     "iopub.status.idle": "2023-07-02T15:35:53.723329Z",
     "shell.execute_reply": "2023-07-02T15:35:53.722183Z"
    }
   },
   "outputs": [],
   "source": [
    "# Build graphs for GCN training purpose\n",
    "br.graphs.BuildWindowGraphs(\n",
    "    bg, \n",
    "    n_cells_perClass = 10, \n",
    "    window_width = 100.0, \n",
    "    window_height = 100.0, \n",
    "    n_neighbors = 10, \n",
    ")"
   ]
  },
  {
   "cell_type": "code",
   "execution_count": 6,
   "metadata": {
    "execution": {
     "iopub.execute_input": "2023-07-02T15:35:53.728151Z",
     "iopub.status.busy": "2023-07-02T15:35:53.727926Z",
     "iopub.status.idle": "2023-07-02T15:35:53.733460Z",
     "shell.execute_reply": "2023-07-02T15:35:53.732850Z"
    }
   },
   "outputs": [
    {
     "name": "stdout",
     "output_type": "stream",
     "text": [
      "Number of node features: 981\n"
     ]
    }
   ],
   "source": [
    "print(f'Number of node features: {bg.n_node_features}')"
   ]
  },
  {
   "cell_type": "code",
   "execution_count": 7,
   "metadata": {
    "execution": {
     "iopub.execute_input": "2023-07-02T15:35:53.737232Z",
     "iopub.status.busy": "2023-07-02T15:35:53.736815Z",
     "iopub.status.idle": "2023-07-02T15:35:53.744501Z",
     "shell.execute_reply": "2023-07-02T15:35:53.743944Z"
    }
   },
   "outputs": [
    {
     "name": "stdout",
     "output_type": "stream",
     "text": [
      "Number of graphs: 436\n",
      "Type of graph: <class 'torch_geometric.data.data.Data'>\n"
     ]
    },
    {
     "data": {
      "text/plain": [
       "Data(x=[994, 981], edge_index=[2, 9940], edge_attr=[9940], y=[994, 10], pos=[994, 4])"
      ]
     },
     "execution_count": 7,
     "metadata": {},
     "output_type": "execute_result"
    }
   ],
   "source": [
    "graphs = bg.Graphs_golden\n",
    "print(f'Number of graphs: {len(graphs)}')\n",
    "\n",
    "graph = graphs[0].cpu()\n",
    "print('Type of graph:', type(graph))\n",
    "graph"
   ]
  },
  {
   "attachments": {},
   "cell_type": "markdown",
   "metadata": {},
   "source": [
    "### cocalization graphs"
   ]
  },
  {
   "cell_type": "code",
   "execution_count": 8,
   "metadata": {
    "execution": {
     "iopub.execute_input": "2023-07-02T15:35:53.748442Z",
     "iopub.status.busy": "2023-07-02T15:35:53.748122Z",
     "iopub.status.idle": "2023-07-02T15:35:53.753709Z",
     "shell.execute_reply": "2023-07-02T15:35:53.753165Z"
    }
   },
   "outputs": [
    {
     "data": {
      "text/plain": [
       "tensor([[0.0000, 0.0000, 0.0000,  ..., 0.0000, 0.0000, 8.4660],\n",
       "        [0.0000, 0.0000, 0.0000,  ..., 0.0000, 0.0000, 8.4303],\n",
       "        [0.0000, 0.0000, 0.0000,  ..., 0.0000, 0.0000, 8.7936],\n",
       "        ...,\n",
       "        [0.0000, 0.0000, 0.0000,  ..., 0.0000, 0.0000, 4.7216],\n",
       "        [0.0000, 0.0000, 0.0000,  ..., 0.0000, 0.0000, 3.7851],\n",
       "        [0.0000, 0.0000, 0.0000,  ..., 0.0000, 0.0000, 3.6468]],\n",
       "       dtype=torch.float64)"
      ]
     },
     "execution_count": 8,
     "metadata": {},
     "output_type": "execute_result"
    }
   ],
   "source": [
    "graph.x"
   ]
  },
  {
   "attachments": {},
   "cell_type": "markdown",
   "metadata": {},
   "source": [
    "### Edges of the graph"
   ]
  },
  {
   "cell_type": "code",
   "execution_count": 9,
   "metadata": {
    "execution": {
     "iopub.execute_input": "2023-07-02T15:35:53.757297Z",
     "iopub.status.busy": "2023-07-02T15:35:53.757023Z",
     "iopub.status.idle": "2023-07-02T15:35:53.761167Z",
     "shell.execute_reply": "2023-07-02T15:35:53.760617Z"
    }
   },
   "outputs": [
    {
     "data": {
      "text/plain": [
       "tensor([[  0,   0,   0,  ..., 993, 993, 993],\n",
       "        [  2,   1,   4,  ..., 704, 593, 291]])"
      ]
     },
     "execution_count": 9,
     "metadata": {},
     "output_type": "execute_result"
    }
   ],
   "source": [
    "graph.edge_index"
   ]
  },
  {
   "attachments": {},
   "cell_type": "markdown",
   "metadata": {},
   "source": [
    "### Labels of nodes\n",
    "\n",
    "Labels of nodes are the cell type indices for individual transcripts"
   ]
  },
  {
   "cell_type": "code",
   "execution_count": 10,
   "metadata": {
    "execution": {
     "iopub.execute_input": "2023-07-02T15:35:53.764623Z",
     "iopub.status.busy": "2023-07-02T15:35:53.764360Z",
     "iopub.status.idle": "2023-07-02T15:35:53.768513Z",
     "shell.execute_reply": "2023-07-02T15:35:53.767986Z"
    }
   },
   "outputs": [
    {
     "data": {
      "text/plain": [
       "tensor([[0, 0, 0,  ..., 0, 0, 0],\n",
       "        [0, 0, 0,  ..., 0, 0, 0],\n",
       "        [0, 0, 0,  ..., 0, 0, 0],\n",
       "        ...,\n",
       "        [0, 0, 0,  ..., 0, 0, 0],\n",
       "        [0, 0, 0,  ..., 0, 0, 1],\n",
       "        [0, 0, 0,  ..., 0, 0, 1]])"
      ]
     },
     "execution_count": 10,
     "metadata": {},
     "output_type": "execute_result"
    }
   ],
   "source": [
    "graph.y"
   ]
  },
  {
   "attachments": {},
   "cell_type": "markdown",
   "metadata": {},
   "source": [
    "### Node position matrix"
   ]
  },
  {
   "cell_type": "code",
   "execution_count": 11,
   "metadata": {
    "execution": {
     "iopub.execute_input": "2023-07-02T15:35:53.771749Z",
     "iopub.status.busy": "2023-07-02T15:35:53.771577Z",
     "iopub.status.idle": "2023-07-02T15:35:53.804681Z",
     "shell.execute_reply": "2023-07-02T15:35:53.804163Z"
    }
   },
   "outputs": [
    {
     "name": "stdout",
     "output_type": "stream",
     "text": [
      "(994, 4)\n"
     ]
    },
    {
     "data": {
      "text/html": [
       "<div>\n",
       "<style scoped>\n",
       "    .dataframe tbody tr th:only-of-type {\n",
       "        vertical-align: middle;\n",
       "    }\n",
       "\n",
       "    .dataframe tbody tr th {\n",
       "        vertical-align: top;\n",
       "    }\n",
       "\n",
       "    .dataframe thead th {\n",
       "        text-align: right;\n",
       "    }\n",
       "</style>\n",
       "<table border=\"1\" class=\"dataframe\">\n",
       "  <thead>\n",
       "    <tr style=\"text-align: right;\">\n",
       "      <th></th>\n",
       "      <th>molecule_id</th>\n",
       "      <th>x</th>\n",
       "      <th>y</th>\n",
       "      <th>cell_id</th>\n",
       "    </tr>\n",
       "  </thead>\n",
       "  <tbody>\n",
       "    <tr>\n",
       "      <th>0</th>\n",
       "      <td>100012.0</td>\n",
       "      <td>1258.950100</td>\n",
       "      <td>609.375000</td>\n",
       "      <td>292.0</td>\n",
       "    </tr>\n",
       "    <tr>\n",
       "      <th>1</th>\n",
       "      <td>100034.0</td>\n",
       "      <td>1265.075000</td>\n",
       "      <td>605.100000</td>\n",
       "      <td>292.0</td>\n",
       "    </tr>\n",
       "    <tr>\n",
       "      <th>2</th>\n",
       "      <td>100038.0</td>\n",
       "      <td>1258.450000</td>\n",
       "      <td>608.375000</td>\n",
       "      <td>292.0</td>\n",
       "    </tr>\n",
       "    <tr>\n",
       "      <th>3</th>\n",
       "      <td>100268.0</td>\n",
       "      <td>1265.899902</td>\n",
       "      <td>603.123108</td>\n",
       "      <td>292.0</td>\n",
       "    </tr>\n",
       "    <tr>\n",
       "      <th>4</th>\n",
       "      <td>100293.0</td>\n",
       "      <td>1265.083374</td>\n",
       "      <td>604.583313</td>\n",
       "      <td>292.0</td>\n",
       "    </tr>\n",
       "  </tbody>\n",
       "</table>\n",
       "</div>"
      ],
      "text/plain": [
       "   molecule_id            x           y  cell_id\n",
       "0     100012.0  1258.950100  609.375000    292.0\n",
       "1     100034.0  1265.075000  605.100000    292.0\n",
       "2     100038.0  1258.450000  608.375000    292.0\n",
       "3     100268.0  1265.899902  603.123108    292.0\n",
       "4     100293.0  1265.083374  604.583313    292.0"
      ]
     },
     "execution_count": 11,
     "metadata": {},
     "output_type": "execute_result"
    }
   ],
   "source": [
    "pos_mtx = graph.pos.numpy()\n",
    "df_pos = pd.DataFrame(pos_mtx, columns = ['molecule_id', 'x', 'y', 'cell_id'])\n",
    "print(df_pos.shape)\n",
    "df_pos.head()"
   ]
  }
 ],
 "metadata": {
  "language_info": {
   "codemirror_mode": {
    "name": "ipython",
    "version": 3
   },
   "file_extension": ".py",
   "mimetype": "text/x-python",
   "name": "python",
   "nbconvert_exporter": "python",
   "pygments_lexer": "ipython3",
   "version": "3.8.13"
  }
 },
 "nbformat": 4,
 "nbformat_minor": 2
}
