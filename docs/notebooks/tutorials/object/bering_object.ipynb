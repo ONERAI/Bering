{
 "cells": [
  {
   "cell_type": "code",
   "execution_count": 1,
   "metadata": {
    "execution": {
     "iopub.execute_input": "2023-06-29T22:56:27.454860Z",
     "iopub.status.busy": "2023-06-29T22:56:27.454260Z",
     "iopub.status.idle": "2023-06-29T22:56:29.286769Z",
     "shell.execute_reply": "2023-06-29T22:56:29.284483Z"
    }
   },
   "outputs": [],
   "source": [
    "%matplotlib inline"
   ]
  },
  {
   "attachments": {},
   "cell_type": "markdown",
   "metadata": {},
   "source": [
    "# Understand Bering object\n",
    "This tutorial shows the data structure of Bering object. We will use Nanostring CosMx NSCLC (He et al., 2022) data as an example."
   ]
  },
  {
   "attachments": {},
   "cell_type": "markdown",
   "metadata": {},
   "source": [
    "### Import packages & data"
   ]
  },
  {
   "cell_type": "code",
   "execution_count": 2,
   "metadata": {
    "execution": {
     "iopub.execute_input": "2023-06-29T22:56:29.295407Z",
     "iopub.status.busy": "2023-06-29T22:56:29.294438Z",
     "iopub.status.idle": "2023-06-29T22:56:45.756328Z",
     "shell.execute_reply": "2023-06-29T22:56:45.754683Z"
    }
   },
   "outputs": [],
   "source": [
    "import numpy as np\n",
    "import pandas as pd\n",
    "import tifffile as tiff\n",
    "import matplotlib.pyplot as plt \n",
    "\n",
    "import Bering as br"
   ]
  },
  {
   "cell_type": "code",
   "execution_count": 3,
   "metadata": {
    "execution": {
     "iopub.execute_input": "2023-06-29T22:56:45.762451Z",
     "iopub.status.busy": "2023-06-29T22:56:45.761832Z",
     "iopub.status.idle": "2023-06-29T22:56:46.846203Z",
     "shell.execute_reply": "2023-06-29T22:56:46.844598Z"
    }
   },
   "outputs": [],
   "source": [
    "# load data\n",
    "df_spots_seg = pd.read_csv('spots_seg.txt', sep='\\t', header=0, index_col=0)\n",
    "df_spots_unseg = pd.read_csv('spots_unseg.txt', sep='\\t', header=0, index_col=0)\n",
    "img = tiff.imread('image.tif')\n",
    "channels = ['Nuclei', 'PanCK', 'Membrane']"
   ]
  },
  {
   "attachments": {},
   "cell_type": "markdown",
   "metadata": {},
   "source": [
    "### Visualize spots\n",
    "Spots data include spots that are segmented (annotated) and unsegmented (without cell annotations)."
   ]
  },
  {
   "cell_type": "code",
   "execution_count": 4,
   "metadata": {
    "execution": {
     "iopub.execute_input": "2023-06-29T22:56:46.851441Z",
     "iopub.status.busy": "2023-06-29T22:56:46.850910Z",
     "iopub.status.idle": "2023-06-29T22:56:46.883002Z",
     "shell.execute_reply": "2023-06-29T22:56:46.882165Z"
    }
   },
   "outputs": [
    {
     "data": {
      "text/html": [
       "<div>\n",
       "<style scoped>\n",
       "    .dataframe tbody tr th:only-of-type {\n",
       "        vertical-align: middle;\n",
       "    }\n",
       "\n",
       "    .dataframe tbody tr th {\n",
       "        vertical-align: top;\n",
       "    }\n",
       "\n",
       "    .dataframe thead th {\n",
       "        text-align: right;\n",
       "    }\n",
       "</style>\n",
       "<table border=\"1\" class=\"dataframe\">\n",
       "  <thead>\n",
       "    <tr style=\"text-align: right;\">\n",
       "      <th></th>\n",
       "      <th>x</th>\n",
       "      <th>y</th>\n",
       "      <th>z</th>\n",
       "      <th>features</th>\n",
       "      <th>segmented</th>\n",
       "      <th>components</th>\n",
       "      <th>fov</th>\n",
       "      <th>labels</th>\n",
       "    </tr>\n",
       "  </thead>\n",
       "  <tbody>\n",
       "    <tr>\n",
       "      <th>13342297</th>\n",
       "      <td>347.82858</td>\n",
       "      <td>48.571430</td>\n",
       "      <td>4</td>\n",
       "      <td>S100P</td>\n",
       "      <td>1</td>\n",
       "      <td>Cytoplasm</td>\n",
       "      <td>10</td>\n",
       "      <td>tumor</td>\n",
       "    </tr>\n",
       "    <tr>\n",
       "      <th>13342298</th>\n",
       "      <td>325.10000</td>\n",
       "      <td>42.125000</td>\n",
       "      <td>4</td>\n",
       "      <td>RAC1</td>\n",
       "      <td>1</td>\n",
       "      <td>Membrane</td>\n",
       "      <td>10</td>\n",
       "      <td>tumor</td>\n",
       "    </tr>\n",
       "    <tr>\n",
       "      <th>13342299</th>\n",
       "      <td>344.16248</td>\n",
       "      <td>43.912502</td>\n",
       "      <td>4</td>\n",
       "      <td>ITGB1</td>\n",
       "      <td>1</td>\n",
       "      <td>Cytoplasm</td>\n",
       "      <td>10</td>\n",
       "      <td>tumor</td>\n",
       "    </tr>\n",
       "    <tr>\n",
       "      <th>13342300</th>\n",
       "      <td>327.53000</td>\n",
       "      <td>48.960000</td>\n",
       "      <td>4</td>\n",
       "      <td>GSTP1</td>\n",
       "      <td>1</td>\n",
       "      <td>Cytoplasm</td>\n",
       "      <td>10</td>\n",
       "      <td>tumor</td>\n",
       "    </tr>\n",
       "    <tr>\n",
       "      <th>13342301</th>\n",
       "      <td>353.96250</td>\n",
       "      <td>19.949999</td>\n",
       "      <td>4</td>\n",
       "      <td>CLDN4</td>\n",
       "      <td>1</td>\n",
       "      <td>Membrane</td>\n",
       "      <td>10</td>\n",
       "      <td>tumor</td>\n",
       "    </tr>\n",
       "  </tbody>\n",
       "</table>\n",
       "</div>"
      ],
      "text/plain": [
       "                  x          y  z features  segmented components  fov labels\n",
       "13342297  347.82858  48.571430  4    S100P          1  Cytoplasm   10  tumor\n",
       "13342298  325.10000  42.125000  4     RAC1          1   Membrane   10  tumor\n",
       "13342299  344.16248  43.912502  4    ITGB1          1  Cytoplasm   10  tumor\n",
       "13342300  327.53000  48.960000  4    GSTP1          1  Cytoplasm   10  tumor\n",
       "13342301  353.96250  19.949999  4    CLDN4          1   Membrane   10  tumor"
      ]
     },
     "execution_count": 4,
     "metadata": {},
     "output_type": "execute_result"
    }
   ],
   "source": [
    "df_spots_seg.head() # visualize the segmented data"
   ]
  },
  {
   "cell_type": "code",
   "execution_count": 5,
   "metadata": {
    "execution": {
     "iopub.execute_input": "2023-06-29T22:56:46.959508Z",
     "iopub.status.busy": "2023-06-29T22:56:46.959097Z",
     "iopub.status.idle": "2023-06-29T22:56:47.001272Z",
     "shell.execute_reply": "2023-06-29T22:56:47.000274Z"
    }
   },
   "outputs": [
    {
     "name": "stdout",
     "output_type": "stream",
     "text": [
      "min x, y, z: [ 9.51666641 10.775      -1.        ]\n",
      "max x, y, z: [5461.38769531 3637.5612793     8.        ]\n"
     ]
    }
   ],
   "source": [
    "# x, y, z are 3d coordinates of the transcripts on the image. \n",
    "print(f'min x, y, z: {df_spots_seg[[\"x\", \"y\", \"z\"]].min().values}')\n",
    "print(f'max x, y, z: {df_spots_seg[[\"x\", \"y\", \"z\"]].max().values}')"
   ]
  },
  {
   "cell_type": "code",
   "execution_count": 6,
   "metadata": {
    "execution": {
     "iopub.execute_input": "2023-06-29T22:56:47.005054Z",
     "iopub.status.busy": "2023-06-29T22:56:47.004612Z",
     "iopub.status.idle": "2023-06-29T22:56:47.117819Z",
     "shell.execute_reply": "2023-06-29T22:56:47.117021Z"
    }
   },
   "outputs": [
    {
     "data": {
      "text/plain": [
       "MZT2A       58704\n",
       "DUSP5       55854\n",
       "MALAT1      29428\n",
       "HSPA1A      18811\n",
       "OLFM4       17501\n",
       "            ...  \n",
       "CHGA           95\n",
       "ARG1           91\n",
       "ADGRE1         88\n",
       "NegPrb19       87\n",
       "NegPrb15       87\n",
       "Name: features, Length: 980, dtype: int64"
      ]
     },
     "execution_count": 6,
     "metadata": {},
     "output_type": "execute_result"
    }
   ],
   "source": [
    "# columm \"features\" contains the names of the genes for individual transcripts\n",
    "df_spots_seg['features'].value_counts()"
   ]
  },
  {
   "cell_type": "code",
   "execution_count": 7,
   "metadata": {
    "execution": {
     "iopub.execute_input": "2023-06-29T22:56:47.121839Z",
     "iopub.status.busy": "2023-06-29T22:56:47.121534Z",
     "iopub.status.idle": "2023-06-29T22:56:47.194928Z",
     "shell.execute_reply": "2023-06-29T22:56:47.194156Z"
    }
   },
   "outputs": [
    {
     "name": "stdout",
     "output_type": "stream",
     "text": [
      "2669    2002\n",
      "975     1917\n",
      "1330    1889\n",
      "934     1615\n",
      "559     1490\n",
      "        ... \n",
      "2445      20\n",
      "2779      20\n",
      "3133      20\n",
      "2647      20\n",
      "630       20\n",
      "Name: segmented, Length: 3129, dtype: int64\n",
      "tumor          480533\n",
      "myeloid        246703\n",
      "fibroblast     102280\n",
      "endothelial     92674\n",
      "epithelial      75477\n",
      "B               62654\n",
      "T               29920\n",
      "pDC             17912\n",
      "NK              12644\n",
      "Name: labels, dtype: int64\n"
     ]
    }
   ],
   "source": [
    "# columns \"segmented\" and \"labels\" represent the segmented cell ids and cell type annotations. \n",
    "# This is the ground truth for the cell segmention and cell type classification task.\n",
    "print(df_spots_seg['segmented'].value_counts())\n",
    "print(df_spots_seg['labels'].value_counts())"
   ]
  },
  {
   "cell_type": "code",
   "execution_count": 8,
   "metadata": {
    "execution": {
     "iopub.execute_input": "2023-06-29T22:56:47.198819Z",
     "iopub.status.busy": "2023-06-29T22:56:47.198548Z",
     "iopub.status.idle": "2023-06-29T22:56:47.206914Z",
     "shell.execute_reply": "2023-06-29T22:56:47.206177Z"
    }
   },
   "outputs": [
    {
     "data": {
      "text/html": [
       "<div>\n",
       "<style scoped>\n",
       "    .dataframe tbody tr th:only-of-type {\n",
       "        vertical-align: middle;\n",
       "    }\n",
       "\n",
       "    .dataframe tbody tr th {\n",
       "        vertical-align: top;\n",
       "    }\n",
       "\n",
       "    .dataframe thead th {\n",
       "        text-align: right;\n",
       "    }\n",
       "</style>\n",
       "<table border=\"1\" class=\"dataframe\">\n",
       "  <thead>\n",
       "    <tr style=\"text-align: right;\">\n",
       "      <th></th>\n",
       "      <th>components</th>\n",
       "      <th>features</th>\n",
       "      <th>fov</th>\n",
       "      <th>x</th>\n",
       "      <th>y</th>\n",
       "      <th>z</th>\n",
       "    </tr>\n",
       "  </thead>\n",
       "  <tbody>\n",
       "    <tr>\n",
       "      <th>13131760</th>\n",
       "      <td>Membrane</td>\n",
       "      <td>S100A10</td>\n",
       "      <td>10</td>\n",
       "      <td>4667.9624</td>\n",
       "      <td>225.46251</td>\n",
       "      <td>4</td>\n",
       "    </tr>\n",
       "    <tr>\n",
       "      <th>13131761</th>\n",
       "      <td>0</td>\n",
       "      <td>FGR</td>\n",
       "      <td>10</td>\n",
       "      <td>5063.0000</td>\n",
       "      <td>974.55005</td>\n",
       "      <td>4</td>\n",
       "    </tr>\n",
       "    <tr>\n",
       "      <th>13131762</th>\n",
       "      <td>0</td>\n",
       "      <td>IL4R</td>\n",
       "      <td>10</td>\n",
       "      <td>3770.3710</td>\n",
       "      <td>1280.65720</td>\n",
       "      <td>4</td>\n",
       "    </tr>\n",
       "    <tr>\n",
       "      <th>13131763</th>\n",
       "      <td>Membrane</td>\n",
       "      <td>S100A10</td>\n",
       "      <td>10</td>\n",
       "      <td>4671.2170</td>\n",
       "      <td>1350.08340</td>\n",
       "      <td>4</td>\n",
       "    </tr>\n",
       "    <tr>\n",
       "      <th>13131764</th>\n",
       "      <td>0</td>\n",
       "      <td>IGHA1</td>\n",
       "      <td>10</td>\n",
       "      <td>2105.9167</td>\n",
       "      <td>2135.41670</td>\n",
       "      <td>4</td>\n",
       "    </tr>\n",
       "  </tbody>\n",
       "</table>\n",
       "</div>"
      ],
      "text/plain": [
       "         components features  fov          x           y  z\n",
       "13131760   Membrane  S100A10   10  4667.9624   225.46251  4\n",
       "13131761          0      FGR   10  5063.0000   974.55005  4\n",
       "13131762          0     IL4R   10  3770.3710  1280.65720  4\n",
       "13131763   Membrane  S100A10   10  4671.2170  1350.08340  4\n",
       "13131764          0    IGHA1   10  2105.9167  2135.41670  4"
      ]
     },
     "execution_count": 8,
     "metadata": {},
     "output_type": "execute_result"
    }
   ],
   "source": [
    "df_spots_unseg.head() # visualize unsegmented data"
   ]
  },
  {
   "attachments": {},
   "cell_type": "markdown",
   "metadata": {},
   "source": [
    "### Create Bering object"
   ]
  },
  {
   "cell_type": "code",
   "execution_count": 9,
   "metadata": {
    "execution": {
     "iopub.execute_input": "2023-06-29T22:56:47.210601Z",
     "iopub.status.busy": "2023-06-29T22:56:47.210362Z",
     "iopub.status.idle": "2023-06-29T22:56:53.654486Z",
     "shell.execute_reply": "2023-06-29T22:56:53.652745Z"
    }
   },
   "outputs": [
    {
     "data": {
      "text/plain": [
       "<Bering.objects.bering.Bering_Graph at 0x2ba02b692460>"
      ]
     },
     "execution_count": 9,
     "metadata": {},
     "output_type": "execute_result"
    }
   ],
   "source": [
    "bg = br.BrGraph(df_spots_seg, df_spots_unseg, img, channels)\n",
    "bg"
   ]
  },
  {
   "attachments": {},
   "cell_type": "markdown",
   "metadata": {},
   "source": [
    "### Cell metadata"
   ]
  },
  {
   "cell_type": "code",
   "execution_count": 10,
   "metadata": {
    "execution": {
     "iopub.execute_input": "2023-06-29T22:56:53.660472Z",
     "iopub.status.busy": "2023-06-29T22:56:53.659910Z",
     "iopub.status.idle": "2023-06-29T22:56:53.680801Z",
     "shell.execute_reply": "2023-06-29T22:56:53.679711Z"
    }
   },
   "outputs": [
    {
     "data": {
      "text/html": [
       "<div>\n",
       "<style scoped>\n",
       "    .dataframe tbody tr th:only-of-type {\n",
       "        vertical-align: middle;\n",
       "    }\n",
       "\n",
       "    .dataframe tbody tr th {\n",
       "        vertical-align: top;\n",
       "    }\n",
       "\n",
       "    .dataframe thead th {\n",
       "        text-align: right;\n",
       "    }\n",
       "</style>\n",
       "<table border=\"1\" class=\"dataframe\">\n",
       "  <thead>\n",
       "    <tr style=\"text-align: right;\">\n",
       "      <th></th>\n",
       "      <th>cx</th>\n",
       "      <th>cy</th>\n",
       "      <th>dx</th>\n",
       "      <th>dy</th>\n",
       "      <th>d</th>\n",
       "      <th>labels</th>\n",
       "    </tr>\n",
       "    <tr>\n",
       "      <th>segmented</th>\n",
       "      <th></th>\n",
       "      <th></th>\n",
       "      <th></th>\n",
       "      <th></th>\n",
       "      <th></th>\n",
       "      <th></th>\n",
       "    </tr>\n",
       "  </thead>\n",
       "  <tbody>\n",
       "    <tr>\n",
       "      <th>0</th>\n",
       "      <td>330.050018</td>\n",
       "      <td>36.464283</td>\n",
       "      <td>78.366302</td>\n",
       "      <td>61.139999</td>\n",
       "      <td>78.366302</td>\n",
       "      <td>tumor</td>\n",
       "    </tr>\n",
       "    <tr>\n",
       "      <th>1</th>\n",
       "      <td>630.057770</td>\n",
       "      <td>30.633572</td>\n",
       "      <td>113.074950</td>\n",
       "      <td>53.514284</td>\n",
       "      <td>113.074950</td>\n",
       "      <td>endothelial</td>\n",
       "    </tr>\n",
       "    <tr>\n",
       "      <th>2</th>\n",
       "      <td>773.127380</td>\n",
       "      <td>35.350002</td>\n",
       "      <td>61.014648</td>\n",
       "      <td>48.891116</td>\n",
       "      <td>61.014648</td>\n",
       "      <td>epithelial</td>\n",
       "    </tr>\n",
       "    <tr>\n",
       "      <th>3</th>\n",
       "      <td>1950.387451</td>\n",
       "      <td>21.155557</td>\n",
       "      <td>59.865234</td>\n",
       "      <td>25.408331</td>\n",
       "      <td>59.865234</td>\n",
       "      <td>myeloid</td>\n",
       "    </tr>\n",
       "    <tr>\n",
       "      <th>4</th>\n",
       "      <td>2082.986694</td>\n",
       "      <td>23.441666</td>\n",
       "      <td>60.033447</td>\n",
       "      <td>27.858335</td>\n",
       "      <td>60.033447</td>\n",
       "      <td>myeloid</td>\n",
       "    </tr>\n",
       "  </tbody>\n",
       "</table>\n",
       "</div>"
      ],
      "text/plain": [
       "                    cx         cy          dx         dy           d  \\\n",
       "segmented                                                              \n",
       "0           330.050018  36.464283   78.366302  61.139999   78.366302   \n",
       "1           630.057770  30.633572  113.074950  53.514284  113.074950   \n",
       "2           773.127380  35.350002   61.014648  48.891116   61.014648   \n",
       "3          1950.387451  21.155557   59.865234  25.408331   59.865234   \n",
       "4          2082.986694  23.441666   60.033447  27.858335   60.033447   \n",
       "\n",
       "                labels  \n",
       "segmented               \n",
       "0                tumor  \n",
       "1          endothelial  \n",
       "2           epithelial  \n",
       "3              myeloid  \n",
       "4              myeloid  "
      ]
     },
     "execution_count": 10,
     "metadata": {},
     "output_type": "execute_result"
    }
   ],
   "source": [
    "bg.segmented.head() # visualize the metadata of the segmented cells"
   ]
  },
  {
   "attachments": {},
   "cell_type": "markdown",
   "metadata": {},
   "source": [
    "### Feature (gene) metadata"
   ]
  },
  {
   "cell_type": "code",
   "execution_count": 11,
   "metadata": {
    "execution": {
     "iopub.execute_input": "2023-06-29T22:56:53.685244Z",
     "iopub.status.busy": "2023-06-29T22:56:53.684736Z",
     "iopub.status.idle": "2023-06-29T22:56:53.694361Z",
     "shell.execute_reply": "2023-06-29T22:56:53.693335Z"
    }
   },
   "outputs": [
    {
     "data": {
      "text/html": [
       "<div>\n",
       "<style scoped>\n",
       "    .dataframe tbody tr th:only-of-type {\n",
       "        vertical-align: middle;\n",
       "    }\n",
       "\n",
       "    .dataframe tbody tr th {\n",
       "        vertical-align: top;\n",
       "    }\n",
       "\n",
       "    .dataframe thead th {\n",
       "        text-align: right;\n",
       "    }\n",
       "</style>\n",
       "<table border=\"1\" class=\"dataframe\">\n",
       "  <thead>\n",
       "    <tr style=\"text-align: right;\">\n",
       "      <th></th>\n",
       "      <th>counts</th>\n",
       "    </tr>\n",
       "    <tr>\n",
       "      <th>features</th>\n",
       "      <th></th>\n",
       "    </tr>\n",
       "  </thead>\n",
       "  <tbody>\n",
       "    <tr>\n",
       "      <th>AATK</th>\n",
       "      <td>340</td>\n",
       "    </tr>\n",
       "    <tr>\n",
       "      <th>ABL1</th>\n",
       "      <td>327</td>\n",
       "    </tr>\n",
       "    <tr>\n",
       "      <th>ABL2</th>\n",
       "      <td>319</td>\n",
       "    </tr>\n",
       "    <tr>\n",
       "      <th>ACE</th>\n",
       "      <td>301</td>\n",
       "    </tr>\n",
       "    <tr>\n",
       "      <th>ACE2</th>\n",
       "      <td>233</td>\n",
       "    </tr>\n",
       "  </tbody>\n",
       "</table>\n",
       "</div>"
      ],
      "text/plain": [
       "          counts\n",
       "features        \n",
       "AATK         340\n",
       "ABL1         327\n",
       "ABL2         319\n",
       "ACE          301\n",
       "ACE2         233"
      ]
     },
     "execution_count": 11,
     "metadata": {},
     "output_type": "execute_result"
    }
   ],
   "source": [
    "bg.features.head() # visualize the metadata of the features (genes)"
   ]
  },
  {
   "attachments": {},
   "cell_type": "markdown",
   "metadata": {},
   "source": [
    "### Other information"
   ]
  },
  {
   "cell_type": "code",
   "execution_count": 12,
   "metadata": {
    "execution": {
     "iopub.execute_input": "2023-06-29T22:56:53.699054Z",
     "iopub.status.busy": "2023-06-29T22:56:53.698143Z",
     "iopub.status.idle": "2023-06-29T22:56:53.705268Z",
     "shell.execute_reply": "2023-06-29T22:56:53.704143Z"
    }
   },
   "outputs": [
    {
     "name": "stdout",
     "output_type": "stream",
     "text": [
      "Number of transcripts: 1331334\n",
      "Number of features: 980\n",
      "Number of cells: 3129\n",
      "Number of labels: 10\n",
      "minimal x, y coordinates: 9.51666641235352, 10.775000000000093\n",
      "maximal x, y coordinates: 5461.54296875, 3637.561279296875\n",
      "Device of Bering object: cuda\n"
     ]
    }
   ],
   "source": [
    "print(f'Number of transcripts: {bg.n_transcripts}')\n",
    "print(f'Number of features: {bg.n_features}')\n",
    "print(f'Number of cells: {bg.n_segmented}')\n",
    "print(f'Number of labels: {bg.n_labels}')\n",
    "\n",
    "print(f'minimal x, y coordinates: {bg.XMIN}, {bg.YMIN}')\n",
    "print(f'maximal x, y coordinates: {bg.XMAX}, {bg.YMAX}')\n",
    "\n",
    "print(f'Device of Bering object: {bg.device}')"
   ]
  }
 ],
 "metadata": {
  "language_info": {
   "codemirror_mode": {
    "name": "ipython",
    "version": 3
   },
   "file_extension": ".py",
   "mimetype": "text/x-python",
   "name": "python",
   "nbconvert_exporter": "python",
   "pygments_lexer": "ipython3",
   "version": "3.8.13"
  }
 },
 "nbformat": 4,
 "nbformat_minor": 2
}
