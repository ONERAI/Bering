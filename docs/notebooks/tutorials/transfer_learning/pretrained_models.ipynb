{
 "cells": [
  {
   "cell_type": "code",
   "execution_count": null,
   "metadata": {},
   "outputs": [],
   "source": [
    "%matplotlib inline"
   ]
  },
  {
   "attachments": {},
   "cell_type": "markdown",
   "metadata": {},
   "source": [
    "# Available pretrain models\n",
    "\n",
    "We pretrained models on preprocessed high-quality spatial transcriptomics data, and realised them for transfer learning for new spatial data, so that people can do segmentation from scratch without providing coarse pre-trained labels. Currently we cover pre-trained models from multiple tissues and spatial technologies."
   ]
  },
  {
   "attachments": {},
   "cell_type": "markdown",
   "metadata": {},
   "source": [
    "### Import packages & data"
   ]
  },
  {
   "cell_type": "code",
   "execution_count": 1,
   "metadata": {
    "execution": {
     "iopub.execute_input": "2023-06-27T14:43:10.031583Z",
     "iopub.status.busy": "2023-06-27T14:43:10.030996Z",
     "iopub.status.idle": "2023-06-27T14:43:28.474360Z",
     "shell.execute_reply": "2023-06-27T14:43:28.472800Z"
    }
   },
   "outputs": [],
   "source": [
    "import random\n",
    "import numpy as np\n",
    "import pandas as pd\n",
    "import tifffile as tiff\n",
    "import matplotlib.pyplot as plt \n",
    "\n",
    "import Bering as br"
   ]
  },
  {
   "cell_type": "markdown",
   "metadata": {},
   "source": [
    "### Pre-train model for ISS hippocampus\n",
    "\n",
    "This model is pre-trained on ISS (pciSeq) hippocampus data. Available labels contains subtypes of neuron and non-neurons."
   ]
  },
  {
   "cell_type": "code",
   "execution_count": null,
   "metadata": {},
   "outputs": [],
   "source": [
    "bg = br.datasets.model_iss_ca1_qian()"
   ]
  },
  {
   "cell_type": "code",
   "execution_count": null,
   "metadata": {},
   "outputs": [],
   "source": [
    "# parameters of node classification model\n",
    "bg.trainer_node.model.parameters()"
   ]
  },
  {
   "cell_type": "code",
   "execution_count": null,
   "metadata": {},
   "outputs": [],
   "source": [
    "# parameters of edge prediction model\n",
    "bg.trainer_edge.model.parameters()"
   ]
  },
  {
   "cell_type": "code",
   "execution_count": null,
   "metadata": {},
   "outputs": [],
   "source": [
    "# available labels for node classification\n",
    "bg.labels"
   ]
  },
  {
   "cell_type": "code",
   "execution_count": null,
   "metadata": {},
   "outputs": [],
   "source": [
    "# number of input node features\n",
    "bg.n_node_features"
   ]
  },
  {
   "cell_type": "markdown",
   "metadata": {},
   "source": [
    "### Other available models\n",
    "\n",
    "- Cortex (MERFISH): br.datasets.model_iss_ca1_qian()\n",
    "- Lung cancer (Cosmx): br.datasets.model_cosmx_nsclc_he()\n",
    "- Breast cancer (Xenium): br.datasets.model_xenium_dcis_janesick()\n",
    "- Hippocampus (pciSeq): br.datasets.model_iss_ca1_qian()\n",
    "\n",
    "More pretrained models will be added."
   ]
  }
 ],
 "metadata": {
  "language_info": {
   "codemirror_mode": {
    "name": "ipython",
    "version": 3
   },
   "file_extension": ".py",
   "mimetype": "text/x-python",
   "name": "python",
   "nbconvert_exporter": "python",
   "pygments_lexer": "ipython3",
   "version": "3.8.13"
  }
 },
 "nbformat": 4,
 "nbformat_minor": 2
}
