{
 "cells": [
  {
   "cell_type": "code",
   "execution_count": null,
   "metadata": {},
   "outputs": [],
   "source": [
    "%matplotlib inline"
   ]
  },
  {
   "attachments": {},
   "cell_type": "markdown",
   "metadata": {},
   "source": [
    "# Transfer pretrained model to predict tumor microenvironment\n",
    "\n",
    "Spatial organization of tumor microenvironment has been a research hotspot for a long time. Here we collected spatial transcriptomics data from both 10x Xenium (DCIS) and Nanostring CosMx (NSCLC), and investigated the Bering model portability between tumor spatial data from different technologies"
   ]
  },
  {
   "attachments": {},
   "cell_type": "markdown",
   "metadata": {},
   "source": [
    "### Import packages & data"
   ]
  },
  {
   "cell_type": "code",
   "execution_count": 1,
   "metadata": {
    "execution": {
     "iopub.execute_input": "2023-06-27T14:43:10.031583Z",
     "iopub.status.busy": "2023-06-27T14:43:10.030996Z",
     "iopub.status.idle": "2023-06-27T14:43:28.474360Z",
     "shell.execute_reply": "2023-06-27T14:43:28.472800Z"
    }
   },
   "outputs": [],
   "source": [
    "import random\n",
    "import numpy as np\n",
    "import pandas as pd\n",
    "import tifffile as tiff\n",
    "import matplotlib.pyplot as plt \n",
    "\n",
    "import Bering as br"
   ]
  },
  {
   "cell_type": "markdown",
   "metadata": {},
   "source": [
    "### Load pretrain model from CoxMx NSCLC data"
   ]
  },
  {
   "cell_type": "code",
   "execution_count": null,
   "metadata": {},
   "outputs": [],
   "source": [
    "bg_pre = br.datasets.model_cosmx_nsclc_he()"
   ]
  },
  {
   "cell_type": "markdown",
   "metadata": {},
   "source": [
    "### Load Xenium DCIS data"
   ]
  },
  {
   "cell_type": "code",
   "execution_count": null,
   "metadata": {},
   "outputs": [],
   "source": [
    "df_spots_seg = pd.read_csv('/data/aronow/Kang/spatial/Bering/demo/bmx_xenium_dcis/spots_seg.txt', sep = '\\t', header = 0, index_col = 0)\n",
    "df_spots_seg = df_spots_seg[['x','y','z','features']]\n",
    "df_spots_unseg = pd.read_csv('/data/aronow/Kang/spatial/Bering/demo/bmx_xenium_dcis/spots_unseg.txt', sep = '\\t', header = 0, index_col = 0)\n",
    "\n",
    "# remove labels of segmented spots\n",
    "df_spots_unseg = pd.concat([df_spots_unseg, df_spots_seg], axis = 0)\n",
    "df_spots_seg = pd.DataFrame()"
   ]
  },
  {
   "cell_type": "markdown",
   "metadata": {},
   "source": [
    "### Transfer model"
   ]
  },
  {
   "cell_type": "code",
   "execution_count": null,
   "metadata": {},
   "outputs": [],
   "source": [
    "# create a new Bering object\n",
    "bg = br.BrGraph(df_spots_seg = df_spots_seg, df_spots_unseg = df_spots_unseg)\n",
    "bg.use_settings(bg_pre) # transfer basic settings\n",
    "\n",
    "# transfer models\n",
    "bg.trainer_node = bg_pre.trainer_node\n",
    "bg.trainer_edge = bg_pre.trainer_edge"
   ]
  },
  {
   "cell_type": "code",
   "execution_count": null,
   "metadata": {},
   "outputs": [],
   "source": [
    "max_num_spots = 1500000; num_chunks = 25; nodeclf_prob_threshold = 0.3\n",
    "\n",
    "# node classification on whole slice\n",
    "br.tl.node_classification(bg, bg.spots_all.copy(), n_neighbors = 30, prob_threshold = nodeclf_prob_threshold, max_num_spots = max_num_spots, num_chunks = num_chunks)\n",
    "\n",
    "# cell segmentation\n",
    "pred_cells = br.tl.cell_segmentation(bg)\n",
    "\n",
    "# ensembl results\n",
    "df_results, adata_ensembl, adata_seg = br.tl.cell_annotation(bg)"
   ]
  },
  {
   "cell_type": "markdown",
   "metadata": {},
   "source": [
    "### visualize the results"
   ]
  },
  {
   "cell_type": "code",
   "execution_count": null,
   "metadata": {},
   "outputs": [],
   "source": [
    "# randomly select a cell\n",
    "random_cell = cells = random.sample(bg.segmented.index.values.tolist(), 1)[0]\n",
    "_,_,_ = br.pl.Plot_Classification(\n",
    "    bg, \n",
    "    cell_name = random_cell,\n",
    "    n_neighbors = 30, \n",
    "    zoomout_scale = 8,\n",
    ")"
   ]
  },
  {
   "cell_type": "markdown",
   "metadata": {},
   "source": [
    "### Self-distillation\n",
    "\n",
    "We used the pretrained model from CoxMx NSCLC to predict the possible cells and annotations in Xenium DSIC data. However, the predicted labels are very coarse, which are not appropriate for down-stream analysis. Here, we used the strategy of self-distillation to learn from the coarse predicted labels and fine-tune the pre-trained model."
   ]
  },
  {
   "cell_type": "code",
   "execution_count": null,
   "metadata": {},
   "outputs": [],
   "source": [
    "# original input data for self-distillation using the ensembled results\n",
    "df_spots_all = df_results\n",
    "df_spots_seg = df_spots_all[df_spots_all['ensembled_labels'] != 'Unknown'].copy()\n",
    "df_spots_seg = df_spots_seg[['x', 'y', 'z', 'features', 'ensembled_cells', 'ensembled_labels']]\n",
    "df_spots_seg.columns = ['x', 'y', 'z', 'features', 'segmented', 'labels']\n",
    "\n",
    "df_spots_unseg = df_spots_all[df_spots_all['ensembled_labels'] == 'Unknown'].copy()\n",
    "df_spots_unseg = df_spots_unseg[['x', 'y', 'z', 'features']]"
   ]
  },
  {
   "cell_type": "code",
   "execution_count": null,
   "metadata": {},
   "outputs": [],
   "source": [
    "bg = br.BrGraph(\n",
    "    df_spots_seg = df_spots_seg, \n",
    "    df_spots_unseg = df_spots_unseg,\n",
    ")"
   ]
  },
  {
   "cell_type": "code",
   "execution_count": null,
   "metadata": {},
   "outputs": [],
   "source": [
    "bg.use_settings(bg_pre) # transfer basic settings\n",
    "bg.trainer_node = bg_pre.trainer_node\n",
    "bg.trainer_edge = bg_pre.trainer_edge"
   ]
  },
  {
   "cell_type": "code",
   "execution_count": null,
   "metadata": {},
   "outputs": [],
   "source": [
    "# Build graphs for GCN training purpose\n",
    "br.graphs.BuildWindowGraphs(\n",
    "    bg, \n",
    "    n_cells_perClass = 12, \n",
    "    window_width = 15.0, \n",
    "    window_height = 15.0, \n",
    "    n_neighbors = 30, \n",
    ")\n",
    "br.graphs.CreateData(\n",
    "    bg, \n",
    "    batch_size = 16, \n",
    "    training_ratio = 0.8, \n",
    ")"
   ]
  },
  {
   "cell_type": "code",
   "execution_count": null,
   "metadata": {},
   "outputs": [],
   "source": [
    "br.train.Training(bg, retrain = True) # set retrain = True to retrain the model"
   ]
  },
  {
   "cell_type": "code",
   "execution_count": null,
   "metadata": {},
   "outputs": [],
   "source": [
    "# visualize the results\n",
    "_,_,_ = br.pl.Plot_Classification(\n",
    "    bg, \n",
    "    cell_name = random_cell,\n",
    "    n_neighbors = 30, \n",
    "    zoomout_scale = 8,\n",
    ")"
   ]
  },
  {
   "cell_type": "code",
   "execution_count": null,
   "metadata": {},
   "outputs": [],
   "source": [
    "# some settings\n",
    "max_num_spots = 1500000\n",
    "num_chunks = 25\n",
    "nodeclf_prob_threshold = 0.3\n",
    "\n",
    "pos_thresh = 0.7\n",
    "resolution = 0.20\n",
    "num_edges_perSpot = 200"
   ]
  },
  {
   "cell_type": "code",
   "execution_count": null,
   "metadata": {},
   "outputs": [],
   "source": [
    "# node classification on whole slice\n",
    "br.tl.node_classification(bg, bg.spots_all.copy(), n_neighbors = 30, prob_threshold = nodeclf_prob_threshold, max_num_spots = max_num_spots, num_chunks = num_chunks)\n",
    "\n",
    "# cell segmentation\n",
    "pred_cells = br.tl.cell_segmentation(bg)\n",
    "\n",
    "# ensembl results\n",
    "df_results, adata_ensembl, adata_seg = br.tl.cell_annotation(bg)"
   ]
  }
 ],
 "metadata": {
  "language_info": {
   "codemirror_mode": {
    "name": "ipython",
    "version": 3
   },
   "file_extension": ".py",
   "mimetype": "text/x-python",
   "name": "python",
   "nbconvert_exporter": "python",
   "pygments_lexer": "ipython3",
   "version": "3.8.13"
  }
 },
 "nbformat": 4,
 "nbformat_minor": 2
}
